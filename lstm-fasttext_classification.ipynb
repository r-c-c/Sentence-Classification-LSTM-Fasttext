{
 "cells": [
  {
   "cell_type": "code",
   "execution_count": 1,
   "id": "f3a661ba-fb2b-4d75-9fae-427211e8b506",
   "metadata": {},
   "outputs": [],
   "source": [
    "%matplotlib inline\n",
    "\n",
    "import tensorflow as tf\n",
    "import pandas as pd\n",
    "import numpy as np\n",
    "import matplotlib.pyplot as plt\n",
    "import random\n",
    "import warnings\n",
    "warnings.filterwarnings('ignore')\n",
    "from tensorflow.keras.preprocessing.text import Tokenizer\n",
    "from tensorflow.keras.preprocessing.sequence import pad_sequences\n",
    "import fasttext\n",
    "from tok import *\n",
    "from multiprocessing import Pool\n",
    "import os\n",
    "import tensorflow_addons as tfa"
   ]
  },
  {
   "cell_type": "code",
   "execution_count": 2,
   "id": "0cb26efe-644c-4597-a5f6-33cbdc0a143a",
   "metadata": {},
   "outputs": [],
   "source": [
    "train_df=pd.read_csv(\"train_set.csv\")\n",
    "test_df=pd.read_csv(\"test_set.csv\")\n",
    "val_df=pd.read_csv(\"val_set.csv\")"
   ]
  },
  {
   "cell_type": "code",
   "execution_count": 3,
   "id": "c220dd2e-2f0b-46b4-9960-343d8d1d2d64",
   "metadata": {},
   "outputs": [],
   "source": [
    "sentences=train_df.txt.to_list()"
   ]
  },
  {
   "cell_type": "code",
   "execution_count": 4,
   "id": "fbab3ccf-9b71-4a6b-b115-deb23e7c156e",
   "metadata": {},
   "outputs": [
    {
     "name": "stdout",
     "output_type": "stream",
     "text": [
      "completed\n",
      "Wall time: 27.6 s\n"
     ]
    }
   ],
   "source": [
    "%%time\n",
    "#multiprocessing\n",
    "if __name__ ==  '__main__': \n",
    "\n",
    "    p=Pool(processes = os.cpu_count())\n",
    "    tokens = p.map(tokenize,sentences)\n",
    "    p.close()\n",
    "    p.join()  # block at this line until all processes are done\n",
    "    print(\"completed\")"
   ]
  },
  {
   "cell_type": "code",
   "execution_count": 5,
   "id": "7763062c-17e4-4132-8101-02c9cd290287",
   "metadata": {},
   "outputs": [
    {
     "data": {
      "text/plain": [
       "['citation',\n",
       " 'nr',\n",
       " '<num7>',\n",
       " 'decision',\n",
       " 'date',\n",
       " '<date>',\n",
       " 'archive',\n",
       " 'date',\n",
       " '<date>',\n",
       " 'docket',\n",
       " 'no',\n",
       " '<num2>',\n",
       " '<num2>',\n",
       " '<num3>',\n",
       " 'date']"
      ]
     },
     "execution_count": 5,
     "metadata": {},
     "output_type": "execute_result"
    }
   ],
   "source": [
    "tokens[0]"
   ]
  },
  {
   "cell_type": "code",
   "execution_count": 6,
   "id": "136b39f1-364e-4216-86eb-3aff6eac8d62",
   "metadata": {},
   "outputs": [],
   "source": [
    "tokens_all=[i for t in tokens for i in t]\n",
    "voc = {v: k for k, v in dict(enumerate(set(tokens_all))).items()}"
   ]
  },
  {
   "cell_type": "code",
   "execution_count": 7,
   "id": "fbecd9e2-f4d6-4613-97e0-192e367e22ff",
   "metadata": {},
   "outputs": [
    {
     "data": {
      "text/plain": [
       "4912"
      ]
     },
     "execution_count": 7,
     "metadata": {},
     "output_type": "execute_result"
    }
   ],
   "source": [
    "voc_size=len(voc)\n",
    "voc_size"
   ]
  },
  {
   "cell_type": "code",
   "execution_count": 8,
   "id": "ede3c989-1a0f-44a1-82ea-c4216c02f78b",
   "metadata": {},
   "outputs": [],
   "source": [
    "#unknown words numbered asvoc_size+1\n",
    "ids=[[voc_size if x not in voc else voc[x] for x in i] for i in tokens]"
   ]
  },
  {
   "cell_type": "code",
   "execution_count": 9,
   "id": "da5cb99e-33e9-42d1-8c63-19670f8e11da",
   "metadata": {},
   "outputs": [],
   "source": [
    "padded_sequences = pad_sequences(ids, truncating='post', maxlen=50, padding='post',value=voc_size+1) "
   ]
  },
  {
   "cell_type": "code",
   "execution_count": 10,
   "id": "04f4cd25-0762-4195-a582-acb2e795d837",
   "metadata": {},
   "outputs": [
    {
     "data": {
      "text/plain": [
       "array([1916,  374, 1665, 1394, 2910, 3093, 2425, 1154, 1356, 4913, 4913,\n",
       "       4913, 4913, 4913, 4913, 4913, 4913, 4913, 4913, 4913, 4913, 4913,\n",
       "       4913, 4913, 4913, 4913, 4913, 4913, 4913, 4913, 4913, 4913, 4913,\n",
       "       4913, 4913, 4913, 4913, 4913, 4913, 4913, 4913, 4913, 4913, 4913,\n",
       "       4913, 4913, 4913, 4913, 4913, 4913])"
      ]
     },
     "execution_count": 10,
     "metadata": {},
     "output_type": "execute_result"
    }
   ],
   "source": [
    "padded_sequences[3]"
   ]
  },
  {
   "cell_type": "code",
   "execution_count": 11,
   "id": "9cd810e3-c41e-42ef-81da-c4926bf2c83d",
   "metadata": {},
   "outputs": [],
   "source": [
    "labels = train_df[\"type\"].to_list()"
   ]
  },
  {
   "cell_type": "code",
   "execution_count": 12,
   "id": "f99bcc88-ee81-49a1-a5f0-f998ab84eb0a",
   "metadata": {},
   "outputs": [],
   "source": [
    "classes = set(labels)\n",
    "\n",
    "classes_to_index = dict((c, i) for i, c in enumerate(classes))\n",
    "index_to_classes = dict((v, k) for k, v in classes_to_index.items())"
   ]
  },
  {
   "cell_type": "code",
   "execution_count": 13,
   "id": "13686f70-accb-4a88-98f5-ff54b1e71a88",
   "metadata": {
    "tags": []
   },
   "outputs": [
    {
     "data": {
      "text/plain": [
       "({'LegalPolicy': 0,\n",
       "  'Citation': 1,\n",
       "  'PolicyBasedReasoning': 2,\n",
       "  'EvidenceBased/Intermediate Finding': 3,\n",
       "  'Procedure': 4,\n",
       "  'Header': 5,\n",
       "  'EvidenceBasedReasoning': 6,\n",
       "  'CaseIssue': 7,\n",
       "  'ConclusionOfLaw': 8,\n",
       "  'Evidence': 9,\n",
       "  'RemandInstructions': 10,\n",
       "  'CaseHeader': 11,\n",
       "  'LegalRule': 12,\n",
       "  'CaseFooter': 13},\n",
       " {0: 'LegalPolicy',\n",
       "  1: 'Citation',\n",
       "  2: 'PolicyBasedReasoning',\n",
       "  3: 'EvidenceBased/Intermediate Finding',\n",
       "  4: 'Procedure',\n",
       "  5: 'Header',\n",
       "  6: 'EvidenceBasedReasoning',\n",
       "  7: 'CaseIssue',\n",
       "  8: 'ConclusionOfLaw',\n",
       "  9: 'Evidence',\n",
       "  10: 'RemandInstructions',\n",
       "  11: 'CaseHeader',\n",
       "  12: 'LegalRule',\n",
       "  13: 'CaseFooter'})"
      ]
     },
     "execution_count": 13,
     "metadata": {},
     "output_type": "execute_result"
    }
   ],
   "source": [
    "classes_to_index,index_to_classes"
   ]
  },
  {
   "cell_type": "code",
   "execution_count": 14,
   "id": "51c83f8b-072f-4a03-ae72-c72e964e85f3",
   "metadata": {},
   "outputs": [
    {
     "name": "stdout",
     "output_type": "stream",
     "text": [
      "5\n"
     ]
    }
   ],
   "source": [
    "names_to_ids = lambda labels: np.array([classes_to_index.get(x) for x in labels])\n",
    "train_labels = names_to_ids(labels)\n",
    "print(train_labels[10])"
   ]
  },
  {
   "cell_type": "code",
   "execution_count": 15,
   "id": "b5c75e4b-9fba-454d-b717-3ea7b553ecbd",
   "metadata": {},
   "outputs": [],
   "source": [
    "def pad_lab(df):\n",
    "    sentences_=df.txt.to_list()\n",
    "    if __name__ ==  '__main__': \n",
    "\n",
    "        p=Pool(processes = os.cpu_count())\n",
    "        tokens_ = p.map(tokenize,sentences_)\n",
    "        p.close()\n",
    "        p.join()\n",
    "        \n",
    "    ids=[[voc_size if x not in voc else voc[x] for x in i] for i in tokens_]\n",
    "    padded_sequences_ = pad_sequences(ids, truncating='post', maxlen=50, padding='post',value=voc_size+1)\n",
    "    labels_ = df[\"type\"].to_list()\n",
    "    labels_int = names_to_ids(labels_)\n",
    "    return padded_sequences_,labels_int"
   ]
  },
  {
   "cell_type": "code",
   "execution_count": 16,
   "id": "4df78ece-042c-4e4b-aef6-215c76f7b99d",
   "metadata": {},
   "outputs": [],
   "source": [
    "val_sequences, val_labels = pad_lab(val_df)"
   ]
  },
  {
   "cell_type": "code",
   "execution_count": 17,
   "id": "f888352d-5f94-45eb-9527-89777e9e706a",
   "metadata": {},
   "outputs": [],
   "source": [
    "test_sequences, test_labels = pad_lab(test_df)"
   ]
  },
  {
   "cell_type": "code",
   "execution_count": 18,
   "id": "b3aa5a9a-6f84-49d1-b141-98bc9a3d69cf",
   "metadata": {},
   "outputs": [
    {
     "name": "stderr",
     "output_type": "stream",
     "text": [
      "Warning : `load_model` does not return WordVectorModel or SupervisedModel any more, but a `FastText` object which is very similar.\n"
     ]
    }
   ],
   "source": [
    "#https://machinelearningmastery.com/use-word-embedding-layers-deep-learning-keras/\n",
    "model=fasttext.load_model(\"c_bow.bin\")\n",
    "from numpy import zeros\n",
    "embedding_matrix = zeros((voc_size+2, 100))\n",
    "for word, i in voc.items():\n",
    "    embedding_vector = model.get_word_vector(word)\n",
    "    if embedding_vector is not None:\n",
    "        embedding_matrix[i] = embedding_vector"
   ]
  },
  {
   "cell_type": "code",
   "execution_count": 19,
   "id": "2476589d-8465-479a-b5c3-e42561bbc496",
   "metadata": {},
   "outputs": [
    {
     "name": "stdout",
     "output_type": "stream",
     "text": [
      "Model: \"sequential\"\n",
      "_________________________________________________________________\n",
      "Layer (type)                 Output Shape              Param #   \n",
      "=================================================================\n",
      "embedding (Embedding)        (None, 50, 100)           491400    \n",
      "_________________________________________________________________\n",
      "dropout (Dropout)            (None, 50, 100)           0         \n",
      "_________________________________________________________________\n",
      "bidirectional (Bidirectional (None, 50, 200)           160800    \n",
      "_________________________________________________________________\n",
      "dropout_1 (Dropout)          (None, 50, 200)           0         \n",
      "_________________________________________________________________\n",
      "bidirectional_1 (Bidirection (None, 200)               240800    \n",
      "_________________________________________________________________\n",
      "dense (Dense)                (None, 14)                2814      \n",
      "=================================================================\n",
      "Total params: 895,814\n",
      "Trainable params: 895,814\n",
      "Non-trainable params: 0\n",
      "_________________________________________________________________\n"
     ]
    }
   ],
   "source": [
    "model = tf.keras.models.Sequential([\n",
    "    \n",
    "    tf.keras.layers.Embedding(voc_size+2, 100, weights=[embedding_matrix], input_length=50),\n",
    "    tf.keras.layers.Dropout(0.5),\n",
    "    tf.keras.layers.Bidirectional(tf.keras.layers.LSTM(100, return_sequences=True, recurrent_dropout=0.25)),\n",
    "    tf.keras.layers.Dropout(0.5),\n",
    "    tf.keras.layers.Bidirectional(tf.keras.layers.LSTM(100)),\n",
    "    tf.keras.layers.Dense(14, activation='softmax')\n",
    "])\n",
    "\n",
    "model.compile(\n",
    "    loss='sparse_categorical_crossentropy',\n",
    "    optimizer='adam',\n",
    "    metrics=['accuracy']\n",
    ")\n",
    "\n",
    "model.summary()"
   ]
  },
  {
   "cell_type": "code",
   "execution_count": 20,
   "id": "d4065c66-ef46-430b-93d8-133dc04a2b26",
   "metadata": {},
   "outputs": [
    {
     "name": "stdout",
     "output_type": "stream",
     "text": [
      "Epoch 1/15\n",
      "246/246 [==============================] - 28s 93ms/step - loss: 1.0487 - accuracy: 0.6577 - val_loss: 0.8478 - val_accuracy: 0.7374\n",
      "Epoch 2/15\n",
      "246/246 [==============================] - 24s 97ms/step - loss: 0.7240 - accuracy: 0.7558 - val_loss: 0.7497 - val_accuracy: 0.7573\n",
      "Epoch 3/15\n",
      "246/246 [==============================] - 30s 120ms/step - loss: 0.6572 - accuracy: 0.7821 - val_loss: 0.7150 - val_accuracy: 0.7890\n",
      "Epoch 4/15\n",
      "246/246 [==============================] - 31s 124ms/step - loss: 0.6126 - accuracy: 0.7952 - val_loss: 0.7456 - val_accuracy: 0.7773\n",
      "Epoch 5/15\n",
      "246/246 [==============================] - 31s 127ms/step - loss: 0.5758 - accuracy: 0.8061 - val_loss: 0.7375 - val_accuracy: 0.7796\n"
     ]
    }
   ],
   "source": [
    "h = model.fit(\n",
    "    padded_sequences, train_labels,\n",
    "    validation_data=(val_sequences, val_labels),\n",
    "    epochs=15,\n",
    "    callbacks=[\n",
    "        tf.keras.callbacks.EarlyStopping(monitor='val_loss', patience=2)\n",
    "    ]\n",
    ")"
   ]
  },
  {
   "cell_type": "code",
   "execution_count": 21,
   "id": "d4555af1-86a6-48c5-8de1-64138f2ac16f",
   "metadata": {},
   "outputs": [],
   "source": [
    "def show_history(h):\n",
    "    epochs_trained = len(h.history['loss'])\n",
    "    plt.figure(figsize=(16, 6))\n",
    "\n",
    "    plt.subplot(1, 2, 1)\n",
    "    plt.plot(range(0, epochs_trained), h.history.get('accuracy'), label='Training')\n",
    "    plt.plot(range(0, epochs_trained), h.history.get('val_accuracy'), label='Validation')\n",
    "    plt.ylim([0., 1.])\n",
    "    plt.xlabel('Epochs')\n",
    "    plt.ylabel('Accuracy')\n",
    "    plt.legend()\n",
    "\n",
    "    plt.subplot(1, 2, 2)\n",
    "    plt.plot(range(0, epochs_trained), h.history.get('loss'), label='Training')\n",
    "    plt.plot(range(0, epochs_trained), h.history.get('val_loss'), label='Validation')\n",
    "    plt.xlabel('Epochs')\n",
    "    plt.ylabel('Loss')\n",
    "    plt.legend()\n",
    "    plt.show()"
   ]
  },
  {
   "cell_type": "code",
   "execution_count": 22,
   "id": "200d981c-7515-4f4e-814f-76cc5d707f79",
   "metadata": {},
   "outputs": [
    {
     "data": {
      "image/png": "[encoded data removed]",
      "text/plain": [
       "<Figure size 1152x432 with 2 Axes>"
      ]
     },
     "metadata": {
      "needs_background": "light"
     },
     "output_type": "display_data"
    }
   ],
   "source": [
    "show_history(h)"
   ]
  },
  {
   "cell_type": "code",
   "execution_count": 23,
   "id": "38d2b1c1-0310-4579-a055-a6fc0c3468ae",
   "metadata": {},
   "outputs": [
    {
     "name": "stdout",
     "output_type": "stream",
     "text": [
      "17/17 [==============================] - 1s 38ms/step - loss: 0.5988 - accuracy: 0.8236\n"
     ]
    }
   ],
   "source": [
    "eval = model.evaluate(test_sequences, test_labels)"
   ]
  },
  {
   "cell_type": "code",
   "execution_count": 26,
   "id": "e6aab283-1244-49eb-b57a-07c4a747a861",
   "metadata": {},
   "outputs": [
    {
     "name": "stdout",
     "output_type": "stream",
     "text": [
      "Sentence: See Rabideau v. Derwinski, 2 Vet. App. 141, 143 (1992); Brammer v. Derwinski, 3 Vet. App. 223 (1992). \n",
      "Actual Type: Citation\n",
      "Predicted Type: Citation \n",
      "\n",
      "Sentence: Again according to all [x-rays], the fracture is old, although a definit[]e time of injury is not applicable per [x-ray]. \n",
      "Actual Type: Evidence\n",
      "Predicted Type: Evidence \n",
      "\n",
      "Sentence: Subsequently, the RO re-adjudicated the Veteran's claim, confirming and continuing the denial thereof. \n",
      "Actual Type: Evidence\n",
      "Predicted Type: Evidence \n",
      "\n",
      "Sentence: Citation Nr: 1502967 Decision Date: 01/21/15 Archive Date: 01/27/15 DOCKET NO. 94-25 188 ) DATE ) )\n",
      "Actual Type: CaseHeader\n",
      "Predicted Type: CaseHeader \n",
      "\n",
      "Sentence: In this regard, the record contains multiple medical opinions which address whether the veteran has PTSD and whether it is related to service.\n",
      "Actual Type: Evidence\n",
      "Predicted Type: EvidenceBasedReasoning \n",
      "\n"
     ]
    }
   ],
   "source": [
    "for a in range(0,5):\n",
    "    i = random.randint(0, len(test_labels) - 1)\n",
    "\n",
    "    print('Sentence:', test_df.txt.to_list()[i])\n",
    "    print('Actual Type:', index_to_classes[test_labels[i]])\n",
    "\n",
    "    p = model.predict_classes(np.expand_dims(test_sequences[i], axis=0))[0]\n",
    "\n",
    "    print('Predicted Type:', index_to_classes.get(p), '\\n')"
   ]
  },
  {
   "cell_type": "code",
   "execution_count": 30,
   "id": "ec073e75-93eb-4073-acd2-12197a896709",
   "metadata": {},
   "outputs": [],
   "source": [
    "from sklearn.metrics import classification_report\n"
   ]
  },
  {
   "cell_type": "code",
   "execution_count": 27,
   "id": "b5b0f66d-5a65-4821-95d2-23e6a33aa68c",
   "metadata": {},
   "outputs": [],
   "source": [
    "y_pred=model.predict_classes(test_sequences)"
   ]
  },
  {
   "cell_type": "code",
   "execution_count": 41,
   "id": "5e768152-f2f6-4862-a398-742f0264572b",
   "metadata": {},
   "outputs": [],
   "source": [
    "y_pred_=np.vectorize(index_to_classes.get)(y_pred)\n",
    "test_labels_=np.vectorize(index_to_classes.get)(test_labels)"
   ]
  },
  {
   "cell_type": "code",
   "execution_count": 48,
   "id": "b5820b30-6e7d-4b55-8983-6cb5eea23b4f",
   "metadata": {},
   "outputs": [
    {
     "name": "stdout",
     "output_type": "stream",
     "text": [
      "                                    precision    recall  f1-score   support\n",
      "\n",
      "                        CaseFooter       1.00      1.00      1.00        10\n",
      "                        CaseHeader       1.00      1.00      1.00         9\n",
      "                         CaseIssue       1.00      1.00      1.00         9\n",
      "                          Citation       1.00      0.95      0.98        64\n",
      "                   ConclusionOfLaw       0.88      0.78      0.82        18\n",
      "                          Evidence       0.76      0.83      0.79       109\n",
      "EvidenceBased/Intermediate Finding       0.57      0.68      0.62        37\n",
      "            EvidenceBasedReasoning       0.42      0.20      0.27        41\n",
      "                            Header       1.00      0.99      0.99        75\n",
      "                         LegalRule       0.70      0.88      0.78        34\n",
      "                       LegalPolicy       0.00      0.00      0.00         2\n",
      "                         Procedure       0.95      0.86      0.90        83\n",
      "                RemandInstructions       0.66      0.92      0.77        25\n",
      "\n",
      "                         micro avg       0.83      0.82      0.82       516\n",
      "                         macro avg       0.76      0.78      0.76       516\n",
      "                      weighted avg       0.82      0.82      0.81       516\n",
      "\n"
     ]
    }
   ],
   "source": [
    "print(classification_report(y_pred_,test_labels_,labels=['CaseFooter', 'CaseHeader', 'CaseIssue', 'Citation',\n",
    "       'ConclusionOfLaw', 'Evidence',\n",
    "       'EvidenceBased/Intermediate Finding', 'EvidenceBasedReasoning',\n",
    "       'Header',  'LegalRule', 'LegalPolicy',\n",
    "       'Procedure', 'RemandInstructions']))"
   ]
  },
  {
   "cell_type": "code",
   "execution_count": null,
   "id": "79c725dd-4ba1-41d0-97e6-ec8c398f7d64",
   "metadata": {},
   "outputs": [],
   "source": []
  }
 ],
 "metadata": {
  "kernelspec": {
   "display_name": "Python 3",
   "language": "python",
   "name": "python3"
  },
  "language_info": {
   "codemirror_mode": {
    "name": "ipython",
    "version": 3
   },
   "file_extension": ".py",
   "mimetype": "text/x-python",
   "name": "python",
   "nbconvert_exporter": "python",
   "pygments_lexer": "ipython3",
   "version": "3.8.8"
  }
 },
 "nbformat": 4,
 "nbformat_minor": 5
}
